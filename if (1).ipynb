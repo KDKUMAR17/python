{
 "cells": [
  {
   "cell_type": "code",
   "execution_count": 6,
   "id": "972390b3-27dd-46cc-ab63-306e9def511a",
   "metadata": {},
   "outputs": [
    {
     "name": "stdin",
     "output_type": "stream",
     "text": [
      "Enter a value [10,20]\n"
     ]
    },
    {
     "name": "stdout",
     "output_type": "stream",
     "text": [
      "Execution Successfull\n"
     ]
    }
   ],
   "source": [
    "#check the value is single value datatype\n",
    "value=eval(input(\"Enter a value\"))\n",
    "type_of_value=type(value)\n",
    "if type_of_value in [int,float,complex,bool]:\n",
    "    print(f\"{value} blongs to Single Value Data Type\")\n",
    "print(\"Execution Successfull\")"
   ]
  },
  {
   "cell_type": "code",
   "execution_count": 10,
   "id": "29ce304e-08b1-436e-9fb9-991507d7162e",
   "metadata": {},
   "outputs": [
    {
     "name": "stdin",
     "output_type": "stream",
     "text": [
      "Enter a number -90\n"
     ]
    },
    {
     "name": "stdout",
     "output_type": "stream",
     "text": [
      "2 digite\n"
     ]
    }
   ],
   "source": [
    "#check if two digit\n",
    "num=int(input(\"Enter a number\"))\n",
    "if (100>num>9) or (-9>num>-100):\n",
    "    print(\"2 digite\")"
   ]
  },
  {
   "cell_type": "code",
   "execution_count": 4,
   "id": "477cc8a9-300d-4a38-851d-1c01cdd5c04e",
   "metadata": {},
   "outputs": [
    {
     "name": "stdin",
     "output_type": "stream",
     "text": [
      "Enter a word h\n"
     ]
    }
   ],
   "source": [
    "#check if a alpabet is vowel\n",
    "char=input(\"Enter a word\")\n",
    "if char in 'AEIOUaeiou':\n",
    "    print(f'{char} is vowel')\n",
    "    "
   ]
  },
  {
   "cell_type": "code",
   "execution_count": 6,
   "id": "320a45fe-3e71-4c53-9bf4-5a21fe29b8f1",
   "metadata": {},
   "outputs": [
    {
     "name": "stdin",
     "output_type": "stream",
     "text": [
      "Enter Set1 : {10,20,30}\n",
      "Enter Set2 : {20}\n"
     ]
    },
    {
     "name": "stdout",
     "output_type": "stream",
     "text": [
      "{10, 20, 30} is sub-set of {20}\n"
     ]
    }
   ],
   "source": [
    "# given set is sub-set of an other set\n",
    "set1=eval(input(\"Enter Set1 :\"))\n",
    "set2=eval(input(\"Enter Set2 :\"))\n",
    "if set1<set2 or set2<set1:\n",
    "    print(f\"{set2} is sub-set of {set1}\")\n",
    "#or\n",
    "if set1.issubset(set2) or set1.issubset(set2):\n",
    "      print(f\"{set1} is sub-set of {set2}\")\n"
   ]
  },
  {
   "cell_type": "code",
   "execution_count": 10,
   "id": "8638a51a-8943-4462-8f04-038e4cd12534",
   "metadata": {},
   "outputs": [
    {
     "name": "stdin",
     "output_type": "stream",
     "text": [
      "enter the number 0\n"
     ]
    },
    {
     "name": "stdout",
     "output_type": "stream",
     "text": [
      "0 is even Number\n"
     ]
    }
   ],
   "source": [
    "#check the given number is even\n",
    "number=int(input('enter the number'))\n",
    "if number%2==0:\n",
    "    print (f'{number} is even Number')"
   ]
  },
  {
   "cell_type": "code",
   "execution_count": null,
   "id": "c8652c84-0662-49a7-b971-58ac60b40f98",
   "metadata": {},
   "outputs": [],
   "source": []
  },
  {
   "cell_type": "code",
   "execution_count": 6,
   "id": "96b7ec84-564d-4e1d-90c0-b5d14dd1e153",
   "metadata": {},
   "outputs": [
    {
     "name": "stdin",
     "output_type": "stream",
     "text": [
      "Enter any Number : 1\n"
     ]
    },
    {
     "name": "stdout",
     "output_type": "stream",
     "text": [
      "1 is Positive number\n"
     ]
    }
   ],
   "source": [
    "# Check given number is +ve\n",
    "number=eval(input(\"Enter any Number :\"))\n",
    "if number >0:\n",
    "     print (f'{number} is Positive number')\n",
    "    "
   ]
  },
  {
   "cell_type": "code",
   "execution_count": 8,
   "id": "77cc37d3-7d7f-404a-91ac-5e805303b089",
   "metadata": {},
   "outputs": [
    {
     "name": "stdin",
     "output_type": "stream",
     "text": [
      "Enter a word : Thala\n"
     ]
    },
    {
     "name": "stdout",
     "output_type": "stream",
     "text": [
      "Start with upperchase\n"
     ]
    }
   ],
   "source": [
    "# check the given word is tarts with upper case\n",
    "word=input('Enter a word :')\n",
    "if word[0].isupper:\n",
    "    print (\"Start with upperchase\")"
   ]
  },
  {
   "cell_type": "code",
   "execution_count": 2,
   "id": "15805cef-261b-44a5-9267-2df67b2e2caf",
   "metadata": {},
   "outputs": [
    {
     "name": "stdin",
     "output_type": "stream",
     "text": [
      "Enter a Number 15\n"
     ]
    },
    {
     "name": "stdout",
     "output_type": "stream",
     "text": [
      "15 is divisible by 3 and 5\n"
     ]
    }
   ],
   "source": [
    "# given number divisible By 3 and divide by 5\n",
    "num=int(input(\"Enter a Number\"))\n",
    "if num % 3==0 and num% 5==0:\n",
    "    print(f\"{num} is divisible by 3 and 5\")"
   ]
  },
  {
   "cell_type": "code",
   "execution_count": 27,
   "id": "956eee79-336a-4cd0-a761-11f6cc0252c6",
   "metadata": {},
   "outputs": [
    {
     "name": "stdin",
     "output_type": "stream",
     "text": [
      "enter charactor 100\n"
     ]
    },
    {
     "name": "stdout",
     "output_type": "stream",
     "text": [
      "100 is Lowerchase\n"
     ]
    }
   ],
   "source": [
    "char=input(\"enter charactor\")\n",
    "if \"A\"<=char<=\"Z\":\n",
    "    print(f\"{char} is Upperchase\")\n",
    "else:\n",
    "     print(f\"{char} is Lowerchase\")"
   ]
  },
  {
   "cell_type": "code",
   "execution_count": null,
   "id": "415371da-6b20-4288-9d2a-f26d4eb8123c",
   "metadata": {},
   "outputs": [],
   "source": []
  }
 ],
 "metadata": {
  "kernelspec": {
   "display_name": "Python 3 (ipykernel)",
   "language": "python",
   "name": "python3"
  },
  "language_info": {
   "codemirror_mode": {
    "name": "ipython",
    "version": 3
   },
   "file_extension": ".py",
   "mimetype": "text/x-python",
   "name": "python",
   "nbconvert_exporter": "python",
   "pygments_lexer": "ipython3",
   "version": "3.12.4"
  }
 },
 "nbformat": 4,
 "nbformat_minor": 5
}
